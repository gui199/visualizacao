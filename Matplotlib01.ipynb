{
  "nbformat": 4,
  "nbformat_minor": 0,
  "metadata": {
    "colab": {
      "name": "Matplotlib01.ipynb",
      "provenance": [],
      "private_outputs": true,
      "authorship_tag": "ABX9TyNxlTElgMEGzDLaukewYz2v",
      "include_colab_link": true
    },
    "kernelspec": {
      "name": "python3",
      "display_name": "Python 3"
    }
  },
  "cells": [
    {
      "cell_type": "markdown",
      "metadata": {
        "id": "view-in-github",
        "colab_type": "text"
      },
      "source": [
        "<a href=\"https://colab.research.google.com/github/thadeupenna/visualizacao/blob/master/Matplotlib01.ipynb\" target=\"_parent\"><img src=\"https://colab.research.google.com/assets/colab-badge.svg\" alt=\"Open In Colab\"/></a>"
      ]
    },
    {
      "cell_type": "markdown",
      "metadata": {
        "id": "BhSaLKRe78lg",
        "colab_type": "text"
      },
      "source": [
        "# Matplotlib"
      ]
    },
    {
      "cell_type": "code",
      "metadata": {
        "id": "SK00sbBg3BWK",
        "colab_type": "code",
        "colab": {}
      },
      "source": [
        "import matplotlib.pyplot as plt\n",
        "from math import sin,pi"
      ],
      "execution_count": null,
      "outputs": []
    },
    {
      "cell_type": "markdown",
      "metadata": {
        "id": "2QhO5dXb8_C6",
        "colab_type": "text"
      },
      "source": [
        "\n",
        "Vamos tentar plotar o sen(x) de 0 a pi\n",
        "\n",
        "Vamos fazer uma tentativa literal de C para Python só com o que aprendemos até agora"
      ]
    },
    {
      "cell_type": "code",
      "metadata": {
        "id": "Z6T6MReS8Rz-",
        "colab_type": "code",
        "colab": {}
      },
      "source": [
        "x,y = [],[]\n",
        "for n in range(11):\n",
        "  x.append(n/10*pi)\n",
        "  y.append(sin(n/10*pi))\n",
        "  print(x[n],y[n])  "
      ],
      "execution_count": null,
      "outputs": []
    },
    {
      "cell_type": "code",
      "metadata": {
        "id": "agtfmMKR8kag",
        "colab_type": "code",
        "colab": {}
      },
      "source": [
        "plt.plot(x,y,\"-\")"
      ],
      "execution_count": null,
      "outputs": []
    },
    {
      "cell_type": "markdown",
      "metadata": {
        "id": "_nigv-nyAR5u",
        "colab_type": "text"
      },
      "source": [
        "Um pouco mais Python"
      ]
    },
    {
      "cell_type": "code",
      "metadata": {
        "id": "STOT3Dk5BNuS",
        "colab_type": "code",
        "colab": {}
      },
      "source": [
        "x = [n/10*pi for n in range(11)]\n",
        "y = [sin(x[n]) for n in range(11)]"
      ],
      "execution_count": null,
      "outputs": []
    },
    {
      "cell_type": "code",
      "metadata": {
        "id": "h5Vpv1IrBmIk",
        "colab_type": "code",
        "colab": {}
      },
      "source": [
        "plt.plot(x,y,\"-\")"
      ],
      "execution_count": null,
      "outputs": []
    },
    {
      "cell_type": "code",
      "metadata": {
        "id": "sRvVwadhEZGe",
        "colab_type": "code",
        "colab": {}
      },
      "source": [
        "y = list(map(sin, x))"
      ],
      "execution_count": null,
      "outputs": []
    },
    {
      "cell_type": "code",
      "metadata": {
        "id": "aebgczGDEr4X",
        "colab_type": "code",
        "colab": {}
      },
      "source": [
        "plt.plot(x,y,\"-\")"
      ],
      "execution_count": null,
      "outputs": []
    },
    {
      "cell_type": "markdown",
      "metadata": {
        "id": "fjUwNy15B6TH",
        "colab_type": "text"
      },
      "source": [
        "Muito mais Python"
      ]
    },
    {
      "cell_type": "code",
      "metadata": {
        "id": "Lcaf7ZDfCDJa",
        "colab_type": "code",
        "colab": {}
      },
      "source": [
        "import numpy as np\n",
        "\n",
        "x = np.linspace(0,pi,101)\n",
        "y = np.sin(x)"
      ],
      "execution_count": null,
      "outputs": []
    },
    {
      "cell_type": "code",
      "metadata": {
        "id": "b5J29MrVCg7G",
        "colab_type": "code",
        "colab": {}
      },
      "source": [
        "plt.plot(x,y,\"-\")"
      ],
      "execution_count": null,
      "outputs": []
    },
    {
      "cell_type": "code",
      "metadata": {
        "id": "Apk96RCXC1Ow",
        "colab_type": "code",
        "colab": {}
      },
      "source": [
        "x = np.linspace(0,pi,101)\n"
      ],
      "execution_count": null,
      "outputs": []
    },
    {
      "cell_type": "code",
      "metadata": {
        "id": "auZMnNEUD4Vs",
        "colab_type": "code",
        "colab": {}
      },
      "source": [
        "plt.plot(x,y,\"-\")"
      ],
      "execution_count": null,
      "outputs": []
    },
    {
      "cell_type": "code",
      "metadata": {
        "id": "9UPPJ37SD6PG",
        "colab_type": "code",
        "colab": {}
      },
      "source": [
        ""
      ],
      "execution_count": null,
      "outputs": []
    }
  ]
}